{
  "nbformat": 4,
  "nbformat_minor": 0,
  "metadata": {
    "colab": {
      "name": "Py_Assignment_1.ipynb",
      "provenance": []
    },
    "kernelspec": {
      "name": "python3",
      "display_name": "Python 3"
    }
  },
  "cells": [
    {
      "cell_type": "markdown",
      "metadata": {
        "id": "G4L5kGVo8pk6"
      },
      "source": [
        "1. In the below elements which of them are values or an expression? eg:- values can be\n",
        "integer or string and expressions will be mathematical operators."
      ]
    },
    {
      "cell_type": "markdown",
      "metadata": {
        "id": "KJm0yKnD80E6"
      },
      "source": [
        "> Answer:\n",
        "\n",
        "* \\*  is an expression\n",
        "* \"hello\" is a value\n",
        "*  -87.8 is a value\n",
        "*  \\- is a expressions\n",
        "*  \\+ is a expression\n",
        "*  6 is a value\n"
      ]
    },
    {
      "cell_type": "markdown",
      "metadata": {
        "id": "_ISWt5mK9iz8"
      },
      "source": [
        "2. What is the difference between string and variable?\n",
        "\n",
        "> Answer\n",
        "\n",
        "* A string is a value representing text\n",
        "'spam'. \n",
        "* A variable is a name that can refer to any value 'spam'."
      ]
    },
    {
      "cell_type": "markdown",
      "metadata": {
        "id": "xcsyL9bE-JZF"
      },
      "source": [
        "3. Describe three different data types.\n",
        "\n",
        "\n"
      ]
    },
    {
      "cell_type": "markdown",
      "metadata": {
        "id": "qztCUnq--ZK3"
      },
      "source": [
        "Answer:\n",
        "\n",
        "**Int**\n",
        "\n",
        "It is used for integral values. In python 2 versions, there was different Int and long for small and big integral values, but from python 3 it is int only.\n",
        "\n",
        "We can represent int in 4 forms.\n",
        "\n",
        "* Decimal form ( it is by default and digits are from 0-9)\n",
        "* Binary form (base-2, 0, and 1)a=1111, so if do print (a)It will be a normal decimal.So to convert it into binary, we make a change like a=0B1111So basically zero(0) small “ b” or zero(0) capital” B” is used in prefix.\n",
        "* Octal form (0-7 )So in this zero(0) and capital “0” or small “o” is used in prefix.\n",
        "* Hexadecimal (0-9, A-F)In this zero(0) and small or capital “x” is used.\n",
        "\n",
        "\n",
        "**Float:**\n",
        "\n",
        "* Float is a data type in which decimal values are there. In float, we can only have decimal no binary, oct, or hex. Eg: a=15.5 So when we see the type of “a” It will be float type.\n",
        "\n",
        "**Complex:**\n",
        "\n",
        "* A+bj – > Complex Number\n",
        "Eg:\n",
        "x=10+20j\n",
        "Print (type(x)) #so it will be complex\n",
        "\n",
        "* The real part can be binary, octal, or hex anything, but the image should be decimal only.\n",
        "\n",
        "\n",
        "\n",
        "**Boolean**\n",
        "\n",
        "* In boolean we have the answers in the form of  True or False.\n",
        "But one thing is to remember that the first letters should be in the capital True, False.\n",
        "\n",
        "\n",
        "**Strings**\n",
        "\n",
        "In string data type, we can use single, double, or triple quotes. So for eg: S= \"Frason”\n",
        "\n"
      ]
    },
    {
      "cell_type": "markdown",
      "metadata": {
        "id": "0t3VbS6Q_gt5"
      },
      "source": [
        "4. What is an expression made up of? What do all expressions do?\n",
        "\n",
        "> Answer:\n",
        "\n",
        "* An expression is a combination of values and operators. All expressions evaluate (that is, reduce) to a single value. Expression can be evaluated according to our requirment task.\n",
        "\n",
        "\n",
        "\n"
      ]
    },
    {
      "cell_type": "markdown",
      "metadata": {
        "id": "j32j-zosAbFF"
      },
      "source": [
        "5. This assignment statements, like spam = 10. What is the difference between an\n",
        "expression and a statement?\n",
        "> Answer:\n",
        "\n",
        "* Expressions evaluate to a single value, statements do not"
      ]
    },
    {
      "cell_type": "markdown",
      "metadata": {
        "id": "wJdNJgauBAKo"
      },
      "source": [
        "6. After running the following code, what does the variable bacon contain?\n",
        "bacon = 22\n",
        "bacon + 1\n",
        "\n",
        "> Answer\n",
        " * Variable bacon contain 20"
      ]
    },
    {
      "cell_type": "markdown",
      "metadata": {
        "id": "3V8TTpGGBRAI"
      },
      "source": [
        "7. What should the following two expressions evaluate to?\n",
        "\n",
        "'spam' + 'spamspam'\n",
        "\n",
        "'spam' * 3\n",
        "\n",
        "> Answer\n",
        "\n",
        "* spamspamspam"
      ]
    },
    {
      "cell_type": "markdown",
      "metadata": {
        "id": "22M33iBxBmwM"
      },
      "source": [
        "8. Why is eggs a valid variable name while 100 is invalid?\n",
        "\n",
        "> Answer\n",
        "\n",
        "* variable names can't start with numbers"
      ]
    },
    {
      "cell_type": "markdown",
      "metadata": {
        "id": "C9ZfRr51BvJX"
      },
      "source": [
        "9. What three functions can be used to get the integer, floating-point number, or string\n",
        "version of a value?\n",
        "\n",
        "> Answer\n",
        "\n",
        "* int(),\n",
        "str(),\n",
        "float()"
      ]
    },
    {
      "cell_type": "markdown",
      "metadata": {
        "id": "fhD6d21LB3oI"
      },
      "source": [
        "10. Why does this expression cause an error? How can you fix it?\n",
        "I have eaten '+ 99 + 'burritos.\n",
        "\n",
        "> Answer\n",
        "\n",
        "* can't concatenate str and int.\n",
        "\n",
        "'I have eaten ' + str(99) + ' burritos.'"
      ]
    }
  ]
}